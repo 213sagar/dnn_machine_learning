{
 "cells": [
  {
   "cell_type": "code",
   "execution_count": 6,
   "id": "537a314c",
   "metadata": {},
   "outputs": [
    {
     "name": "stdout",
     "output_type": "stream",
     "text": [
      "Mean Squared Error is :  2004.2629212944946\n",
      "Weights:  [  -1.16678648 -237.18123633  518.31283524  309.04204042 -763.10835067\n",
      "  458.88378916   80.61107395  174.31796962  721.48087773   79.1952801 ]\n",
      "Intercept:  153.05824267739402\n"
     ]
    }
   ],
   "source": [
    "## importing the required library \n",
    "import numpy as np \n",
    "import matplotlib.pyplot as plt \n",
    "from sklearn import datasets, linear_model  ## importing the datasets and linear model\n",
    "from  sklearn.metrics import mean_squared_error\n",
    "\n",
    "## loading datasets from sklearn \n",
    "diabetes=datasets.load_diabetes()\n",
    "# diabetes_X=diabetes.data[:,np.newaxis,2]  ## it will load the index number 2 whole data into the ddataframe and in the column \n",
    "diabetes_X=diabetes.data\n",
    "\n",
    "# diabetes.keys()## this line gives all features that is avialable in the dataset\n",
    "\n",
    "diabetes_X_train=diabetes_X[:-30]## last thirty records \n",
    "diabetes_X_test=diabetes_X[-20:] ##3 first 20 record for testing \n",
    "\n",
    "diabetes_y_train=diabetes.target[:-30]\n",
    "diabetes_y_test=diabetes.target[-20:]\n",
    "\n",
    "\n",
    "## model initializing \n",
    "\n",
    "model=linear_model.LinearRegression()\n",
    "model.fit(diabetes_X_train,diabetes_y_train)  ## writing code for best fit line adding \n",
    "\n",
    "y_pred=model.predict(diabetes_X_test)\n",
    "\n",
    "print('Mean Squared Error is : ',mean_squared_error(y_pred,diabetes_y_test))\n",
    "\n",
    "print('Weights: ',model.coef_)\n",
    "print('Intercept: ',model.intercept_)\n",
    "\n",
    "\n",
    "\n",
    "# ## plotting the scaateer plot \n",
    "# plt.scatter(diabetes_X_test,diabetes_y_test) ## this will give you the scatter plot \n",
    "# plt.plot(diabetes_X_test,y_pred)## this will genearte bets fit line regression plot  \n",
    "\n"
   ]
  },
  {
   "cell_type": "code",
   "execution_count": 9,
   "id": "35e85427",
   "metadata": {},
   "outputs": [
    {
     "ename": "AttributeError",
     "evalue": "'str' object has no attribute 'data'",
     "output_type": "error",
     "traceback": [
      "\u001b[1;31m---------------------------------------------------------------------------\u001b[0m",
      "\u001b[1;31mAttributeError\u001b[0m                            Traceback (most recent call last)",
      "Cell \u001b[1;32mIn[9], line 2\u001b[0m\n\u001b[0;32m      1\u001b[0m \u001b[39mimport\u001b[39;00m \u001b[39mpandas\u001b[39;00m \u001b[39mas\u001b[39;00m \u001b[39mpd\u001b[39;00m\n\u001b[1;32m----> 2\u001b[0m df\u001b[39m=\u001b[39mpd\u001b[39m.\u001b[39mDataFrame(diabetes\u001b[39m.\u001b[39;49mdata,columns\u001b[39m=\u001b[39mdiabetes\u001b[39m.\u001b[39mfeature_names)\n\u001b[0;32m      3\u001b[0m \u001b[39m## add a target column and fill it with the target data \u001b[39;00m\n\u001b[0;32m      4\u001b[0m df[\u001b[39m'\u001b[39m\u001b[39mtarget\u001b[39m\u001b[39m'\u001b[39m]\u001b[39m=\u001b[39mdiabetes\u001b[39m.\u001b[39mtarget\n",
      "\u001b[1;31mAttributeError\u001b[0m: 'str' object has no attribute 'data'"
     ]
    }
   ],
   "source": [
    "import pandas as pd\n",
    "df=pd.DataFrame(diabetes.data,columns=diabetes.feature_names)\n",
    "## add a target column and fill it with the target data \n",
    "df['target']=diabetes.target\n",
    "df.head()"
   ]
  },
  {
   "cell_type": "code",
   "execution_count": 10,
   "id": "77d11da6",
   "metadata": {},
   "outputs": [
    {
     "ename": "AttributeError",
     "evalue": "'str' object has no attribute 'keys'",
     "output_type": "error",
     "traceback": [
      "\u001b[1;31m---------------------------------------------------------------------------\u001b[0m",
      "\u001b[1;31mAttributeError\u001b[0m                            Traceback (most recent call last)",
      "Cell \u001b[1;32mIn[10], line 1\u001b[0m\n\u001b[1;32m----> 1\u001b[0m \u001b[39mprint\u001b[39m(diabetes\u001b[39m.\u001b[39;49mkeys())\n",
      "\u001b[1;31mAttributeError\u001b[0m: 'str' object has no attribute 'keys'"
     ]
    }
   ],
   "source": [
    "print(diabetes.keys())"
   ]
  },
  {
   "cell_type": "code",
   "execution_count": null,
   "id": "b706e9d4",
   "metadata": {},
   "outputs": [
    {
     "name": "stdout",
     "output_type": "stream",
     "text": [
      ".. _diabetes_dataset:\n",
      "\n",
      "Diabetes dataset\n",
      "----------------\n",
      "\n",
      "Ten baseline variables, age, sex, body mass index, average blood\n",
      "pressure, and six blood serum measurements were obtained for each of n =\n",
      "442 diabetes patients, as well as the response of interest, a\n",
      "quantitative measure of disease progression one year after baseline.\n",
      "\n",
      "**Data Set Characteristics:**\n",
      "\n",
      "  :Number of Instances: 442\n",
      "\n",
      "  :Number of Attributes: First 10 columns are numeric predictive values\n",
      "\n",
      "  :Target: Column 11 is a quantitative measure of disease progression one year after baseline\n",
      "\n",
      "  :Attribute Information:\n",
      "      - age     age in years\n",
      "      - sex\n",
      "      - bmi     body mass index\n",
      "      - bp      average blood pressure\n",
      "      - s1      tc, total serum cholesterol\n",
      "      - s2      ldl, low-density lipoproteins\n",
      "      - s3      hdl, high-density lipoproteins\n",
      "      - s4      tch, total cholesterol / HDL\n",
      "      - s5      ltg, possibly log of serum triglycerides level\n",
      "      - s6      glu, blood sugar level\n",
      "\n",
      "Note: Each of these 10 feature variables have been mean centered and scaled by the standard deviation times the square root of `n_samples` (i.e. the sum of squares of each column totals 1).\n",
      "\n",
      "Source URL:\n",
      "https://www4.stat.ncsu.edu/~boos/var.select/diabetes.html\n",
      "\n",
      "For more information see:\n",
      "Bradley Efron, Trevor Hastie, Iain Johnstone and Robert Tibshirani (2004) \"Least Angle Regression,\" Annals of Statistics (with discussion), 407-499.\n",
      "(https://web.stanford.edu/~hastie/Papers/LARS/LeastAngle_2002.pdf)\n",
      "\n"
     ]
    }
   ],
   "source": [
    "\n",
    "print(diabetes.DESCR)"
   ]
  },
  {
   "cell_type": "code",
   "execution_count": null,
   "id": "32232865",
   "metadata": {},
   "outputs": [],
   "source": []
  }
 ],
 "metadata": {
  "kernelspec": {
   "display_name": "Python 3 (ipykernel)",
   "language": "python",
   "name": "python3"
  },
  "language_info": {
   "codemirror_mode": {
    "name": "ipython",
    "version": 3
   },
   "file_extension": ".py",
   "mimetype": "text/x-python",
   "name": "python",
   "nbconvert_exporter": "python",
   "pygments_lexer": "ipython3",
   "version": "3.9.6"
  }
 },
 "nbformat": 4,
 "nbformat_minor": 5
}
