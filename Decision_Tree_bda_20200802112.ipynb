{
 "cells": [
  {
   "cell_type": "markdown",
   "id": "113c7f78",
   "metadata": {},
   "source": [
    "## Name - Sagar Rajkumar Gupta\n",
    "## Prn - 20200802112\n",
    "## Lab Name- Decision Tree Algorithm "
   ]
  },
  {
   "cell_type": "markdown",
   "id": "99b24bf0",
   "metadata": {},
   "source": [
    "## How Does the Decision Tree Algorithm Work?\n",
    "The basic idea behind any decision tree algorithm is as follows:\n",
    "\n",
    "1. Select the best attribute using Attribute Selection Measures (ASM) to split the records.\n",
    "\n",
    "2. Make that attribute a decision node and breaks the dataset into smaller subsets.\n",
    "\n",
    "3. Start tree building by repeating this process recursively for each child until one of the conditions will match:\n",
    "### All the tuples belong to the same attribute value.\n",
    "### There are no more remaining attributes.\n",
    "### There are no more instances."
   ]
  },
  {
   "cell_type": "code",
   "execution_count": 1,
   "id": "545c4197",
   "metadata": {},
   "outputs": [],
   "source": [
    "## importing the required library \n",
    "import pandas as pd\n",
    "from sklearn.tree import DecisionTreeClassifier  ##importing the decision tree classifier\n",
    "from sklearn.model_selection import train_test_split # impoting the train test split method\n",
    "from sklearn import metrics ## for accuracy calculation \n"
   ]
  },
  {
   "cell_type": "markdown",
   "id": "ae4e1c6f",
   "metadata": {},
   "source": [
    "## Loading Data\n",
    "Let's first load the required Pima Indian Diabetes dataset using pandas' read CSV function. You can download the Kaggle data set to follow along.\n",
    "https://www.kaggle.com/datasets/uciml/pima-indians-diabetes-database"
   ]
  },
  {
   "cell_type": "code",
   "execution_count": 2,
   "id": "c8ec1b18",
   "metadata": {},
   "outputs": [],
   "source": [
    "# col_names=['pregnant', 'glucose', 'bp', 'skin', 'insulin', 'bmi', 'pedigree', 'age', 'label']\n",
    "# loaD THE DATASET \n",
    "data=pd.read_csv('diabetes.csv')"
   ]
  },
  {
   "cell_type": "code",
   "execution_count": 3,
   "id": "a775f5e6",
   "metadata": {},
   "outputs": [
    {
     "data": {
      "text/html": [
       "<div>\n",
       "<style scoped>\n",
       "    .dataframe tbody tr th:only-of-type {\n",
       "        vertical-align: middle;\n",
       "    }\n",
       "\n",
       "    .dataframe tbody tr th {\n",
       "        vertical-align: top;\n",
       "    }\n",
       "\n",
       "    .dataframe thead th {\n",
       "        text-align: right;\n",
       "    }\n",
       "</style>\n",
       "<table border=\"1\" class=\"dataframe\">\n",
       "  <thead>\n",
       "    <tr style=\"text-align: right;\">\n",
       "      <th></th>\n",
       "      <th>Pregnancies</th>\n",
       "      <th>Glucose</th>\n",
       "      <th>BloodPressure</th>\n",
       "      <th>SkinThickness</th>\n",
       "      <th>Insulin</th>\n",
       "      <th>BMI</th>\n",
       "      <th>DiabetesPedigreeFunction</th>\n",
       "      <th>Age</th>\n",
       "      <th>Outcome</th>\n",
       "    </tr>\n",
       "  </thead>\n",
       "  <tbody>\n",
       "    <tr>\n",
       "      <th>0</th>\n",
       "      <td>6</td>\n",
       "      <td>148</td>\n",
       "      <td>72</td>\n",
       "      <td>35</td>\n",
       "      <td>0</td>\n",
       "      <td>33.6</td>\n",
       "      <td>0.627</td>\n",
       "      <td>50</td>\n",
       "      <td>1</td>\n",
       "    </tr>\n",
       "    <tr>\n",
       "      <th>1</th>\n",
       "      <td>1</td>\n",
       "      <td>85</td>\n",
       "      <td>66</td>\n",
       "      <td>29</td>\n",
       "      <td>0</td>\n",
       "      <td>26.6</td>\n",
       "      <td>0.351</td>\n",
       "      <td>31</td>\n",
       "      <td>0</td>\n",
       "    </tr>\n",
       "    <tr>\n",
       "      <th>2</th>\n",
       "      <td>8</td>\n",
       "      <td>183</td>\n",
       "      <td>64</td>\n",
       "      <td>0</td>\n",
       "      <td>0</td>\n",
       "      <td>23.3</td>\n",
       "      <td>0.672</td>\n",
       "      <td>32</td>\n",
       "      <td>1</td>\n",
       "    </tr>\n",
       "    <tr>\n",
       "      <th>3</th>\n",
       "      <td>1</td>\n",
       "      <td>89</td>\n",
       "      <td>66</td>\n",
       "      <td>23</td>\n",
       "      <td>94</td>\n",
       "      <td>28.1</td>\n",
       "      <td>0.167</td>\n",
       "      <td>21</td>\n",
       "      <td>0</td>\n",
       "    </tr>\n",
       "    <tr>\n",
       "      <th>4</th>\n",
       "      <td>0</td>\n",
       "      <td>137</td>\n",
       "      <td>40</td>\n",
       "      <td>35</td>\n",
       "      <td>168</td>\n",
       "      <td>43.1</td>\n",
       "      <td>2.288</td>\n",
       "      <td>33</td>\n",
       "      <td>1</td>\n",
       "    </tr>\n",
       "  </tbody>\n",
       "</table>\n",
       "</div>"
      ],
      "text/plain": [
       "   Pregnancies  Glucose  BloodPressure  SkinThickness  Insulin   BMI  \\\n",
       "0            6      148             72             35        0  33.6   \n",
       "1            1       85             66             29        0  26.6   \n",
       "2            8      183             64              0        0  23.3   \n",
       "3            1       89             66             23       94  28.1   \n",
       "4            0      137             40             35      168  43.1   \n",
       "\n",
       "   DiabetesPedigreeFunction  Age  Outcome  \n",
       "0                     0.627   50        1  \n",
       "1                     0.351   31        0  \n",
       "2                     0.672   32        1  \n",
       "3                     0.167   21        0  \n",
       "4                     2.288   33        1  "
      ]
     },
     "execution_count": 3,
     "metadata": {},
     "output_type": "execute_result"
    }
   ],
   "source": [
    "data.head()"
   ]
  },
  {
   "cell_type": "code",
   "execution_count": 4,
   "id": "92818033",
   "metadata": {},
   "outputs": [
    {
     "data": {
      "text/plain": [
       "Pregnancies                   int64\n",
       "Glucose                       int64\n",
       "BloodPressure                 int64\n",
       "SkinThickness                 int64\n",
       "Insulin                       int64\n",
       "BMI                         float64\n",
       "DiabetesPedigreeFunction    float64\n",
       "Age                           int64\n",
       "Outcome                       int64\n",
       "dtype: object"
      ]
     },
     "execution_count": 4,
     "metadata": {},
     "output_type": "execute_result"
    }
   ],
   "source": [
    "data.dtypes"
   ]
  },
  {
   "cell_type": "markdown",
   "id": "55959dcf",
   "metadata": {},
   "source": [
    "## Feature Selection "
   ]
  },
  {
   "cell_type": "code",
   "execution_count": 5,
   "id": "9e7100d5",
   "metadata": {},
   "outputs": [],
   "source": [
    "##split the dataset in features and target variable \n",
    "features_cols=['Pregnancies','Glucose','BloodPressure','SkinThickness','Insulin','BMI','DiabetesPedigreeFunction','Age','Outcome']\n",
    "X=data[features_cols]## Features \n",
    "y=data.Outcome  ## Target Variable "
   ]
  },
  {
   "cell_type": "markdown",
   "id": "cc427db3",
   "metadata": {},
   "source": [
    "## Splitting the dataset "
   ]
  },
  {
   "cell_type": "code",
   "execution_count": 6,
   "id": "8e1694bf",
   "metadata": {},
   "outputs": [],
   "source": [
    "# test and train data spliting using train_test split method \n",
    "X_Train,X_Test,y_train,y_test=train_test_split(X,y,test_size=0.3,random_state=1)  ## 70 % training and 30% for testing \n"
   ]
  },
  {
   "cell_type": "markdown",
   "id": "30bff973",
   "metadata": {},
   "source": [
    "## Building the Decision Tree Model \n"
   ]
  },
  {
   "cell_type": "code",
   "execution_count": 7,
   "id": "0c6266fb",
   "metadata": {},
   "outputs": [],
   "source": [
    "# create a decision tree model using scikit learn moidel \n",
    "# create decision tree classifier object \n",
    "clf=DecisionTreeClassifier()\n",
    "\n",
    "# train Decision tree classifier \n",
    "clf=clf.fit(X_Train,y_train)\n",
    "\n",
    "# predict the response for the test dataset \n",
    "y_pred=clf.predict(X_Test)"
   ]
  },
  {
   "cell_type": "markdown",
   "id": "166bd962",
   "metadata": {},
   "source": [
    "## Evaluating the model \n",
    "Accuracy can be computed by comparing actual test set values and predicted values."
   ]
  },
  {
   "cell_type": "code",
   "execution_count": 8,
   "id": "d0aa7b4f",
   "metadata": {},
   "outputs": [
    {
     "name": "stdout",
     "output_type": "stream",
     "text": [
      "Accuracy:  1.0\n"
     ]
    }
   ],
   "source": [
    "# model Accuracy , How often the classifier the correct?\n",
    "print('Accuracy: ',metrics.accuracy_score(y_test,y_pred))"
   ]
  },
  {
   "cell_type": "markdown",
   "id": "9babd4e0",
   "metadata": {},
   "source": [
    "- here i got the 100% accuracy, which is considered as good accuracy."
   ]
  }
 ],
 "metadata": {
  "kernelspec": {
   "display_name": "Python 3 (ipykernel)",
   "language": "python",
   "name": "python3"
  },
  "language_info": {
   "codemirror_mode": {
    "name": "ipython",
    "version": 3
   },
   "file_extension": ".py",
   "mimetype": "text/x-python",
   "name": "python",
   "nbconvert_exporter": "python",
   "pygments_lexer": "ipython3",
   "version": "3.9.6"
  }
 },
 "nbformat": 4,
 "nbformat_minor": 5
}
